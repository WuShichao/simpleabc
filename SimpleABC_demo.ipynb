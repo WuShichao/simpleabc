{
 "cells": [
  {
   "cell_type": "markdown",
   "metadata": {},
   "source": [
    "#SimpleABC Demo\n",
    "Let's see how SimpleABC works by using it for a very easy problem. We will approximate the posterior distribution of mean and standard deviation for a Gaussian. This of course a very dumb idea, since this can be done analytically, but for demonstration purposes it will do the trick. "
   ]
  },
  {
   "cell_type": "code",
   "execution_count": 1,
   "metadata": {
    "collapsed": false,
    "slideshow": {
     "slide_type": "slide"
    }
   },
   "outputs": [],
   "source": [
    "from simple_abc import Model, basic_abc, pmc_abc\n",
    "import pylab as plt\n",
    "import numpy as np\n",
    "from scipy import stats\n",
    "%matplotlib inline\n",
    "plt.style.use('ggplot')"
   ]
  },
  {
   "cell_type": "markdown",
   "metadata": {},
   "source": [
    "The first thing we need to do is construct our model. To do this, we are going to make our own model object by subclassing SimpleABC's Model class. If you haven't been in the habit of using object-oriented programing, this might be intimidating, but it is not that hard. We need to provide an method to initialize the model object and replace the following methods(function):\n",
    "\n",
    "* draw_theta\n",
    "* generate_data\n",
    "* summary_stats\n",
    "* distance_function \n"
   ]
  },
  {
   "cell_type": "code",
   "execution_count": 2,
   "metadata": {
    "collapsed": false,
    "slideshow": {
     "slide_type": "slide"
    }
   },
   "outputs": [],
   "source": [
    "class MyModel(Model):\n",
    "    \n",
    "    #This method initializes the model object. In this case it does nothing, but you can have you model \n",
    "    #do something when the model object is created, like read in a table of something. \n",
    "    def __init__(self):\n",
    "        pass\n",
    "    \n",
    "    #This is the method that draws from you prior. In this example it draws from frozen scipy.stats \n",
    "    #distributions that are set with the Model.set_priors method.\n",
    "    def draw_theta(self):\n",
    "        theta = []\n",
    "        for p in self.prior:\n",
    "            theta.append(p.rvs())\n",
    "        return theta\n",
    "    \n",
    "    #The method that generates the synthetic data sets.\n",
    "    def generate_data(self, theta):\n",
    "        return stats.norm.rvs(loc=theta,scale=1,size=100)\n",
    "    \n",
    "    #The method that computes your summary statistics, for a Gaussian we just need mu and sigma\n",
    "    def summary_stats(self, data):\n",
    "        mu = np.mean(data)\n",
    "        \n",
    "        return (mu)\n",
    "    \n",
    "    #And finally the distance function. We are just going to use the euclidean distance \n",
    "    #from our observed summary stats\n",
    "    def distance_function(self, data, synth_data):\n",
    "        return np.abs(data - synth_data)\n"
   ]
  },
  {
   "cell_type": "markdown",
   "metadata": {},
   "source": [
    "See, not so bad at all. Ok now that we have our model class, we are ready to go. Let's set up our instance of the model object."
   ]
  },
  {
   "cell_type": "code",
   "execution_count": 3,
   "metadata": {
    "collapsed": false,
    "slideshow": {
     "slide_type": "slide"
    }
   },
   "outputs": [],
   "source": [
    "#Set a random seed \n",
    "np.random.seed(914)\n",
    "\n",
    "#We need some real values so we know it is working. \n",
    "theta_0 = 0\n",
    "\n",
    "#Initialize our model object\n",
    "model = MyModel()\n",
    "\n",
    "#Make our \"observed\" data. Let's use the model's generate_data method.\n",
    "data = model.generate_data(theta_0)\n",
    "\n",
    "#Now we need to set the prior distributions. We were clever and set up our draw theta method to call \n",
    "#frozen scipy.stats objects, so we jest need to give the model our prior distributions \n",
    "model.set_prior([stats.norm(loc=0,scale=1)])\n",
    "\n",
    "#And while we are at it, we will give the model our observed data as well\n",
    "model.set_data(data)\n",
    "\n",
    "\n"
   ]
  },
  {
   "cell_type": "markdown",
   "metadata": {},
   "source": [
    "Now we are ready to do some ABC. Let's get at least 100 samples from our approximate posterior, and set our tolerance (epsilon) to 0.15.  "
   ]
  },
  {
   "cell_type": "code",
   "execution_count": 4,
   "metadata": {
    "collapsed": false
   },
   "outputs": [],
   "source": [
    "posterior = basic_abc(model, data, min_samples=100, epsilon=1)"
   ]
  },
  {
   "cell_type": "markdown",
   "metadata": {},
   "source": [
    "Ok, let's see what we get. "
   ]
  },
  {
   "cell_type": "code",
   "execution_count": 5,
   "metadata": {
    "collapsed": false
   },
   "outputs": [
    {
     "data": {
      "text/plain": [
       "(-2, 2)"
      ]
     },
     "execution_count": 5,
     "metadata": {},
     "output_type": "execute_result"
    },
    {
     "data": {
      "image/png": "[encoded data removed]",
      "text/plain": [
       "<matplotlib.figure.Figure at 0x107521ed0>"
      ]
     },
     "metadata": {},
     "output_type": "display_data"
    }
   ],
   "source": [
    "mu = posterior[0][0]\n",
    "\n",
    "mukde = stats.gaussian_kde(mu)\n",
    "\n",
    "plt.figure(figsize=(15,6))\n",
    "plt.subplots_adjust(wspace=0.2)\n",
    "plt.subplot(111)\n",
    "#plt.hist(mu,normed=True)\n",
    "x = np.linspace(-2,2,1000)\n",
    "plt.plot(x, mukde(x))\n",
    "plt.axvline(theta_0, ls=\"--\")\n",
    "plt.xlabel(r\"$\\mu$\", fontsize=30)\n",
    "plt.ylim(0,5)\n",
    "plt.xlim(-2,2)\n",
    "\n"
   ]
  },
  {
   "cell_type": "markdown",
   "metadata": {
    "collapsed": true
   },
   "source": [
    "That's pretty good, but we can do better. If we make epsilon smaller, we will get a better approximation. We will use a method call population Monte Carlo (PMC) to get to a smaller tolerance and to sample from the prior more efficiently. \n",
    "\n",
    "We'll start with what we did above, but we will take 15 PMC steps.  "
   ]
  },
  {
   "cell_type": "code",
   "execution_count": 6,
   "metadata": {
    "collapsed": false
   },
   "outputs": [
    {
     "name": "stdout",
     "output_type": "stream",
     "text": [
      "Starting step 0\n",
      "Starting step 1\n"
     ]
    },
    {
     "ename": "IndexError",
     "evalue": "tuple index out of range",
     "output_type": "error",
     "traceback": [
      "\u001b[0;31m---------------------------------------------------------------------------\u001b[0m",
      "\u001b[0;31mIndexError\u001b[0m                                Traceback (most recent call last)",
      "\u001b[0;32m<ipython-input-6-9b6f198f058e>\u001b[0m in \u001b[0;36m<module>\u001b[0;34m()\u001b[0m\n\u001b[0;32m----> 1\u001b[0;31m \u001b[0mpmc_posterior\u001b[0m \u001b[0;34m=\u001b[0m \u001b[0mpmc_abc\u001b[0m\u001b[0;34m(\u001b[0m\u001b[0mmodel\u001b[0m\u001b[0;34m,\u001b[0m \u001b[0mdata\u001b[0m\u001b[0;34m,\u001b[0m \u001b[0mepsilon_0\u001b[0m\u001b[0;34m=\u001b[0m\u001b[0;36m1\u001b[0m\u001b[0;34m,\u001b[0m \u001b[0mmin_samples\u001b[0m\u001b[0;34m=\u001b[0m\u001b[0;36m100\u001b[0m\u001b[0;34m,\u001b[0m \u001b[0msteps\u001b[0m\u001b[0;34m=\u001b[0m\u001b[0;36m15\u001b[0m\u001b[0;34m)\u001b[0m\u001b[0;34m\u001b[0m\u001b[0m\n\u001b[0m",
      "\u001b[0;32m/Users/Robert/Google Drive/CODE/simpleabc/simple_abc.py\u001b[0m in \u001b[0;36mpmc_abc\u001b[0;34m(model, data, epsilon_0, min_samples, steps, resume, parallel, n_procs)\u001b[0m\n\u001b[1;32m    402\u001b[0m \u001b[0;34m\u001b[0m\u001b[0m\n\u001b[1;32m    403\u001b[0m             weights = calc_weights(theta_prev, theta, tau_squared, weights_prev,\n\u001b[0;32m--> 404\u001b[0;31m                                                         prior=model.prior)\n\u001b[0m\u001b[1;32m    405\u001b[0m \u001b[0;34m\u001b[0m\u001b[0m\n\u001b[1;32m    406\u001b[0m             output_record[step]['tau_squared'] = 2 * weighted_covar(theta,\n",
      "\u001b[0;32m/Users/Robert/Google Drive/CODE/simpleabc/simple_abc.py\u001b[0m in \u001b[0;36mcalc_weights\u001b[0;34m(theta_prev, theta, tau_squared, weights, prior)\u001b[0m\n\u001b[1;32m    436\u001b[0m     \u001b[0mweights_new\u001b[0m \u001b[0;34m=\u001b[0m \u001b[0mnp\u001b[0m\u001b[0;34m.\u001b[0m\u001b[0mzeros_like\u001b[0m\u001b[0;34m(\u001b[0m\u001b[0mweights\u001b[0m\u001b[0;34m)\u001b[0m\u001b[0;34m\u001b[0m\u001b[0m\n\u001b[1;32m    437\u001b[0m     \u001b[0mnorm\u001b[0m \u001b[0;34m=\u001b[0m \u001b[0mnp\u001b[0m\u001b[0;34m.\u001b[0m\u001b[0mzeros\u001b[0m\u001b[0;34m(\u001b[0m\u001b[0mtheta_prev\u001b[0m\u001b[0;34m.\u001b[0m\u001b[0mshape\u001b[0m\u001b[0;34m[\u001b[0m\u001b[0;36m1\u001b[0m\u001b[0;34m]\u001b[0m\u001b[0;34m)\u001b[0m\u001b[0;34m\u001b[0m\u001b[0m\n\u001b[0;32m--> 438\u001b[0;31m     \u001b[0;32mfor\u001b[0m \u001b[0mi\u001b[0m \u001b[0;32min\u001b[0m \u001b[0mxrange\u001b[0m\u001b[0;34m(\u001b[0m\u001b[0mtheta\u001b[0m\u001b[0;34m.\u001b[0m\u001b[0mshape\u001b[0m\u001b[0;34m[\u001b[0m\u001b[0;36m1\u001b[0m\u001b[0;34m]\u001b[0m\u001b[0;34m)\u001b[0m\u001b[0;34m:\u001b[0m\u001b[0;34m\u001b[0m\u001b[0m\n\u001b[0m\u001b[1;32m    439\u001b[0m         \u001b[0mprior_prob\u001b[0m \u001b[0;34m=\u001b[0m \u001b[0mnp\u001b[0m\u001b[0;34m.\u001b[0m\u001b[0mzeros\u001b[0m\u001b[0;34m(\u001b[0m\u001b[0mtheta\u001b[0m\u001b[0;34m[\u001b[0m\u001b[0;34m:\u001b[0m\u001b[0;34m,\u001b[0m \u001b[0mi\u001b[0m\u001b[0;34m]\u001b[0m\u001b[0;34m.\u001b[0m\u001b[0msize\u001b[0m\u001b[0;34m)\u001b[0m\u001b[0;34m\u001b[0m\u001b[0m\n\u001b[1;32m    440\u001b[0m         \u001b[0;32mfor\u001b[0m \u001b[0mj\u001b[0m \u001b[0;32min\u001b[0m \u001b[0mxrange\u001b[0m\u001b[0;34m(\u001b[0m\u001b[0mtheta\u001b[0m\u001b[0;34m[\u001b[0m\u001b[0;34m:\u001b[0m\u001b[0;34m,\u001b[0m \u001b[0mi\u001b[0m\u001b[0;34m]\u001b[0m\u001b[0;34m.\u001b[0m\u001b[0msize\u001b[0m\u001b[0;34m)\u001b[0m\u001b[0;34m:\u001b[0m\u001b[0;34m\u001b[0m\u001b[0m\n",
      "\u001b[0;31mIndexError\u001b[0m: tuple index out of range"
     ]
    }
   ],
   "source": [
    "pmc_posterior = pmc_abc(model, data, epsilon_0=1, min_samples=100, steps=15)"
   ]
  },
  {
   "cell_type": "code",
   "execution_count": null,
   "metadata": {
    "collapsed": false,
    "scrolled": false
   },
   "outputs": [],
   "source": [
    "eps = []\n",
    "for i in pmc_posterior:\n",
    "    eps.append(i['epsilon'])\n",
    "    mu = i[0][0]\n",
    "\n",
    "    mukde = stats.gaussian_kde(mu)\n",
    "    \n",
    "    plt.figure(figsize=(15,3))\n",
    "    plt.subplots_adjust(wspace=0.4)\n",
    "    plt.suptitle(r'$\\epsilon$ = {:.3f}'.format(i['epsilon']))\n",
    "    plt.subplot(121)\n",
    "    x = np.linspace(-2,2,1000)\n",
    "    plt.plot(x, mukde(x))\n",
    "    plt.axvline(theta_0, ls='--')\n",
    "    plt.ylim(0,5)\n",
    "    plt.xlim(-2,2)\n",
    "    plt.xlabel(r\"$\\mu$\", fontsize=30)\n",
    "\n",
    "    plt.subplot(122)\n",
    "\n",
    "    plt.plot(eps,'-o')\n",
    "    plt.xlabel('Step', fontsize=24)\n",
    "    plt.ylabel(r'$\\epsilon$', fontsize=30)\n",
    "    plt.xlim(-1,15)\n",
    "    plt.ylim(0,1)\n"
   ]
  },
  {
   "cell_type": "markdown",
   "metadata": {},
   "source": [
    "As the tolerance shrinks we get and increasingly better approximation. Huzzah!"
   ]
  }
 ],
 "metadata": {
  "kernelspec": {
   "display_name": "Python 2",
   "language": "python",
   "name": "python2"
  },
  "language_info": {
   "codemirror_mode": {
    "name": "ipython",
    "version": 2
   },
   "file_extension": ".py",
   "mimetype": "text/x-python",
   "name": "python",
   "nbconvert_exporter": "python",
   "pygments_lexer": "ipython2",
   "version": "2.7.10"
  }
 },
 "nbformat": 4,
 "nbformat_minor": 0
}
